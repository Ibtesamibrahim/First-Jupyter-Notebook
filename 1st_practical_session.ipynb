{
 "cells": [
  {
   "cell_type": "code",
   "execution_count": 2,
   "id": "add79c30",
   "metadata": {},
   "outputs": [],
   "source": [
    "import numpy as np\n",
    "import pandas as pd"
   ]
  },
  {
   "cell_type": "code",
   "execution_count": 3,
   "id": "327c90db",
   "metadata": {},
   "outputs": [],
   "source": [
    "df_excel = pd.read_excel(\"C:/Users/ibtes/Desktop/demo_set.xlsx\")"
   ]
  },
  {
   "cell_type": "code",
   "execution_count": 7,
   "id": "d4748f79",
   "metadata": {},
   "outputs": [
    {
     "data": {
      "text/html": [
       "<div>\n",
       "<style scoped>\n",
       "    .dataframe tbody tr th:only-of-type {\n",
       "        vertical-align: middle;\n",
       "    }\n",
       "\n",
       "    .dataframe tbody tr th {\n",
       "        vertical-align: top;\n",
       "    }\n",
       "\n",
       "    .dataframe thead th {\n",
       "        text-align: right;\n",
       "    }\n",
       "</style>\n",
       "<table border=\"1\" class=\"dataframe\">\n",
       "  <thead>\n",
       "    <tr style=\"text-align: right;\">\n",
       "      <th></th>\n",
       "      <th>ID</th>\n",
       "      <th>Name</th>\n",
       "      <th>Joining_Year</th>\n",
       "      <th>Salary</th>\n",
       "      <th>Job_role</th>\n",
       "      <th>Age</th>\n",
       "    </tr>\n",
       "  </thead>\n",
       "  <tbody>\n",
       "    <tr>\n",
       "      <th>0</th>\n",
       "      <td>1</td>\n",
       "      <td>James</td>\n",
       "      <td>2010</td>\n",
       "      <td>2.5</td>\n",
       "      <td>Lead</td>\n",
       "      <td>38</td>\n",
       "    </tr>\n",
       "    <tr>\n",
       "      <th>1</th>\n",
       "      <td>2</td>\n",
       "      <td>Raktim</td>\n",
       "      <td>2001</td>\n",
       "      <td>3.5</td>\n",
       "      <td>Manager</td>\n",
       "      <td>51</td>\n",
       "    </tr>\n",
       "    <tr>\n",
       "      <th>2</th>\n",
       "      <td>3</td>\n",
       "      <td>Bob</td>\n",
       "      <td>2003</td>\n",
       "      <td>3.0</td>\n",
       "      <td>Director</td>\n",
       "      <td>48</td>\n",
       "    </tr>\n",
       "    <tr>\n",
       "      <th>3</th>\n",
       "      <td>4</td>\n",
       "      <td>Rini</td>\n",
       "      <td>1999</td>\n",
       "      <td>3.5</td>\n",
       "      <td>Analyst</td>\n",
       "      <td>53</td>\n",
       "    </tr>\n",
       "    <tr>\n",
       "      <th>4</th>\n",
       "      <td>5</td>\n",
       "      <td>Max</td>\n",
       "      <td>2000</td>\n",
       "      <td>4.0</td>\n",
       "      <td>Team Lead</td>\n",
       "      <td>48</td>\n",
       "    </tr>\n",
       "    <tr>\n",
       "      <th>5</th>\n",
       "      <td>6</td>\n",
       "      <td>Rachel</td>\n",
       "      <td>2005</td>\n",
       "      <td>1.8</td>\n",
       "      <td>Technician</td>\n",
       "      <td>41</td>\n",
       "    </tr>\n",
       "    <tr>\n",
       "      <th>6</th>\n",
       "      <td>7</td>\n",
       "      <td>Priya</td>\n",
       "      <td>2009</td>\n",
       "      <td>2.5</td>\n",
       "      <td>Associate</td>\n",
       "      <td>39</td>\n",
       "    </tr>\n",
       "    <tr>\n",
       "      <th>7</th>\n",
       "      <td>8</td>\n",
       "      <td>Surya</td>\n",
       "      <td>2020</td>\n",
       "      <td>0.7</td>\n",
       "      <td>Lead</td>\n",
       "      <td>27</td>\n",
       "    </tr>\n",
       "  </tbody>\n",
       "</table>\n",
       "</div>"
      ],
      "text/plain": [
       "   ID    Name  Joining_Year  Salary    Job_role  Age\n",
       "0   1   James          2010     2.5        Lead   38\n",
       "1   2  Raktim          2001     3.5     Manager   51\n",
       "2   3     Bob          2003     3.0    Director   48\n",
       "3   4    Rini          1999     3.5     Analyst   53\n",
       "4   5     Max          2000     4.0   Team Lead   48\n",
       "5   6  Rachel          2005     1.8  Technician   41\n",
       "6   7   Priya          2009     2.5   Associate   39\n",
       "7   8   Surya          2020     0.7        Lead   27"
      ]
     },
     "execution_count": 7,
     "metadata": {},
     "output_type": "execute_result"
    }
   ],
   "source": [
    "df_excel.head(8)"
   ]
  },
  {
   "cell_type": "code",
   "execution_count": 8,
   "id": "628e5d9d",
   "metadata": {},
   "outputs": [
    {
     "data": {
      "text/plain": [
       "2.62"
      ]
     },
     "execution_count": 8,
     "metadata": {},
     "output_type": "execute_result"
    }
   ],
   "source": [
    "np.mean(df_excel.Salary)"
   ]
  },
  {
   "cell_type": "code",
   "execution_count": 9,
   "id": "7e1bf264",
   "metadata": {},
   "outputs": [
    {
     "data": {
      "text/html": [
       "<div>\n",
       "<style scoped>\n",
       "    .dataframe tbody tr th:only-of-type {\n",
       "        vertical-align: middle;\n",
       "    }\n",
       "\n",
       "    .dataframe tbody tr th {\n",
       "        vertical-align: top;\n",
       "    }\n",
       "\n",
       "    .dataframe thead th {\n",
       "        text-align: right;\n",
       "    }\n",
       "</style>\n",
       "<table border=\"1\" class=\"dataframe\">\n",
       "  <thead>\n",
       "    <tr style=\"text-align: right;\">\n",
       "      <th></th>\n",
       "      <th>ID</th>\n",
       "      <th>Name</th>\n",
       "      <th>Joining_Year</th>\n",
       "      <th>Salary</th>\n",
       "      <th>Job_role</th>\n",
       "      <th>Age</th>\n",
       "    </tr>\n",
       "  </thead>\n",
       "  <tbody>\n",
       "    <tr>\n",
       "      <th>0</th>\n",
       "      <td>1</td>\n",
       "      <td>James</td>\n",
       "      <td>2010</td>\n",
       "      <td>2.5</td>\n",
       "      <td>Lead</td>\n",
       "      <td>38</td>\n",
       "    </tr>\n",
       "    <tr>\n",
       "      <th>1</th>\n",
       "      <td>2</td>\n",
       "      <td>Raktim</td>\n",
       "      <td>2001</td>\n",
       "      <td>3.5</td>\n",
       "      <td>Manager</td>\n",
       "      <td>51</td>\n",
       "    </tr>\n",
       "    <tr>\n",
       "      <th>2</th>\n",
       "      <td>3</td>\n",
       "      <td>Bob</td>\n",
       "      <td>2003</td>\n",
       "      <td>3.0</td>\n",
       "      <td>Director</td>\n",
       "      <td>48</td>\n",
       "    </tr>\n",
       "    <tr>\n",
       "      <th>3</th>\n",
       "      <td>4</td>\n",
       "      <td>Rini</td>\n",
       "      <td>1999</td>\n",
       "      <td>3.5</td>\n",
       "      <td>Analyst</td>\n",
       "      <td>53</td>\n",
       "    </tr>\n",
       "    <tr>\n",
       "      <th>4</th>\n",
       "      <td>5</td>\n",
       "      <td>Max</td>\n",
       "      <td>2000</td>\n",
       "      <td>4.0</td>\n",
       "      <td>Team Lead</td>\n",
       "      <td>48</td>\n",
       "    </tr>\n",
       "    <tr>\n",
       "      <th>5</th>\n",
       "      <td>6</td>\n",
       "      <td>Rachel</td>\n",
       "      <td>2005</td>\n",
       "      <td>1.8</td>\n",
       "      <td>Technician</td>\n",
       "      <td>41</td>\n",
       "    </tr>\n",
       "    <tr>\n",
       "      <th>6</th>\n",
       "      <td>7</td>\n",
       "      <td>Priya</td>\n",
       "      <td>2009</td>\n",
       "      <td>2.5</td>\n",
       "      <td>Associate</td>\n",
       "      <td>39</td>\n",
       "    </tr>\n",
       "    <tr>\n",
       "      <th>7</th>\n",
       "      <td>8</td>\n",
       "      <td>Surya</td>\n",
       "      <td>2020</td>\n",
       "      <td>0.7</td>\n",
       "      <td>Lead</td>\n",
       "      <td>27</td>\n",
       "    </tr>\n",
       "    <tr>\n",
       "      <th>8</th>\n",
       "      <td>9</td>\n",
       "      <td>Binny</td>\n",
       "      <td>2001</td>\n",
       "      <td>2.0</td>\n",
       "      <td>Manager</td>\n",
       "      <td>40</td>\n",
       "    </tr>\n",
       "    <tr>\n",
       "      <th>9</th>\n",
       "      <td>10</td>\n",
       "      <td>Shyam</td>\n",
       "      <td>2000</td>\n",
       "      <td>2.7</td>\n",
       "      <td>Lead</td>\n",
       "      <td>41</td>\n",
       "    </tr>\n",
       "  </tbody>\n",
       "</table>\n",
       "</div>"
      ],
      "text/plain": [
       "   ID    Name  Joining_Year  Salary    Job_role  Age\n",
       "0   1   James          2010     2.5        Lead   38\n",
       "1   2  Raktim          2001     3.5     Manager   51\n",
       "2   3     Bob          2003     3.0    Director   48\n",
       "3   4    Rini          1999     3.5     Analyst   53\n",
       "4   5     Max          2000     4.0   Team Lead   48\n",
       "5   6  Rachel          2005     1.8  Technician   41\n",
       "6   7   Priya          2009     2.5   Associate   39\n",
       "7   8   Surya          2020     0.7        Lead   27\n",
       "8   9   Binny          2001     2.0     Manager   40\n",
       "9  10   Shyam          2000     2.7        Lead   41"
      ]
     },
     "execution_count": 9,
     "metadata": {},
     "output_type": "execute_result"
    }
   ],
   "source": [
    "df_excel"
   ]
  },
  {
   "cell_type": "code",
   "execution_count": 10,
   "id": "9fb49adf",
   "metadata": {},
   "outputs": [
    {
     "data": {
      "text/plain": [
       "4.0"
      ]
     },
     "execution_count": 10,
     "metadata": {},
     "output_type": "execute_result"
    }
   ],
   "source": [
    "np.max(df_excel.Salary)"
   ]
  },
  {
   "cell_type": "code",
   "execution_count": 11,
   "id": "44ad4738",
   "metadata": {},
   "outputs": [
    {
     "data": {
      "text/plain": [
       "0.7"
      ]
     },
     "execution_count": 11,
     "metadata": {},
     "output_type": "execute_result"
    }
   ],
   "source": [
    "np.min(df_excel.Salary)"
   ]
  },
  {
   "cell_type": "code",
   "execution_count": 25,
   "id": "710b67ef",
   "metadata": {},
   "outputs": [
    {
     "ename": "NameError",
     "evalue": "name 'range_Salary' is not defined",
     "output_type": "error",
     "traceback": [
      "\u001b[1;31m---------------------------------------------------------------------------\u001b[0m",
      "\u001b[1;31mNameError\u001b[0m                                 Traceback (most recent call last)",
      "Input \u001b[1;32mIn [25]\u001b[0m, in \u001b[0;36m<cell line: 2>\u001b[1;34m()\u001b[0m\n\u001b[0;32m      1\u001b[0m range_salary\u001b[38;5;241m=\u001b[39m np\u001b[38;5;241m.\u001b[39mmax(df_excel\u001b[38;5;241m.\u001b[39mSalary) \u001b[38;5;241m-\u001b[39m np\u001b[38;5;241m.\u001b[39mmin(df_excel\u001b[38;5;241m.\u001b[39mSalary)\n\u001b[1;32m----> 2\u001b[0m \u001b[38;5;28mprint\u001b[39m(\u001b[43mrange_Salary\u001b[49m)\n",
      "\u001b[1;31mNameError\u001b[0m: name 'range_Salary' is not defined"
     ]
    }
   ],
   "source": [
    "range_salary= np.max(df_excel.Salary) - np.min(df_excel.Salary)\n",
    "print(range_Salary)"
   ]
  },
  {
   "cell_type": "code",
   "execution_count": 17,
   "id": "a1b20af7",
   "metadata": {},
   "outputs": [
    {
     "data": {
      "text/plain": [
       "0.8375999999999999"
      ]
     },
     "execution_count": 17,
     "metadata": {},
     "output_type": "execute_result"
    }
   ],
   "source": [
    "np.var(df_excel.Salary)"
   ]
  },
  {
   "cell_type": "code",
   "execution_count": 18,
   "id": "addf14cd",
   "metadata": {},
   "outputs": [
    {
     "data": {
      "text/plain": [
       "0.9152048950918039"
      ]
     },
     "execution_count": 18,
     "metadata": {},
     "output_type": "execute_result"
    }
   ],
   "source": [
    "np.sqrt(np.var(df_excel.Salary))"
   ]
  },
  {
   "cell_type": "code",
   "execution_count": 19,
   "id": "b6d4664e",
   "metadata": {},
   "outputs": [
    {
     "data": {
      "text/plain": [
       "0.9152048950918039"
      ]
     },
     "execution_count": 19,
     "metadata": {},
     "output_type": "execute_result"
    }
   ],
   "source": [
    "np.std(df_excel.Salary)"
   ]
  },
  {
   "cell_type": "code",
   "execution_count": 20,
   "id": "f232899b",
   "metadata": {},
   "outputs": [],
   "source": [
    "x= pd.Series(df_excel.Salary)"
   ]
  },
  {
   "cell_type": "code",
   "execution_count": 21,
   "id": "f67a138e",
   "metadata": {},
   "outputs": [],
   "source": [
    "y= pd.Series(df_excel.Age)"
   ]
  },
  {
   "cell_type": "code",
   "execution_count": 22,
   "id": "daf2dcbf",
   "metadata": {},
   "outputs": [
    {
     "data": {
      "text/plain": [
       "6.642222222222222"
      ]
     },
     "execution_count": 22,
     "metadata": {},
     "output_type": "execute_result"
    }
   ],
   "source": [
    "x.cov(y)"
   ]
  },
  {
   "cell_type": "code",
   "execution_count": 23,
   "id": "567b90bb",
   "metadata": {},
   "outputs": [
    {
     "data": {
      "text/html": [
       "<div>\n",
       "<style scoped>\n",
       "    .dataframe tbody tr th:only-of-type {\n",
       "        vertical-align: middle;\n",
       "    }\n",
       "\n",
       "    .dataframe tbody tr th {\n",
       "        vertical-align: top;\n",
       "    }\n",
       "\n",
       "    .dataframe thead th {\n",
       "        text-align: right;\n",
       "    }\n",
       "</style>\n",
       "<table border=\"1\" class=\"dataframe\">\n",
       "  <thead>\n",
       "    <tr style=\"text-align: right;\">\n",
       "      <th></th>\n",
       "      <th>ID</th>\n",
       "      <th>Joining_Year</th>\n",
       "      <th>Salary</th>\n",
       "      <th>Age</th>\n",
       "    </tr>\n",
       "  </thead>\n",
       "  <tbody>\n",
       "    <tr>\n",
       "      <th>count</th>\n",
       "      <td>10.00000</td>\n",
       "      <td>10.00000</td>\n",
       "      <td>10.000000</td>\n",
       "      <td>10.000000</td>\n",
       "    </tr>\n",
       "    <tr>\n",
       "      <th>mean</th>\n",
       "      <td>5.50000</td>\n",
       "      <td>2004.80000</td>\n",
       "      <td>2.620000</td>\n",
       "      <td>42.600000</td>\n",
       "    </tr>\n",
       "    <tr>\n",
       "      <th>std</th>\n",
       "      <td>3.02765</td>\n",
       "      <td>6.56252</td>\n",
       "      <td>0.964711</td>\n",
       "      <td>7.647803</td>\n",
       "    </tr>\n",
       "    <tr>\n",
       "      <th>min</th>\n",
       "      <td>1.00000</td>\n",
       "      <td>1999.00000</td>\n",
       "      <td>0.700000</td>\n",
       "      <td>27.000000</td>\n",
       "    </tr>\n",
       "    <tr>\n",
       "      <th>25%</th>\n",
       "      <td>3.25000</td>\n",
       "      <td>2000.25000</td>\n",
       "      <td>2.125000</td>\n",
       "      <td>39.250000</td>\n",
       "    </tr>\n",
       "    <tr>\n",
       "      <th>50%</th>\n",
       "      <td>5.50000</td>\n",
       "      <td>2002.00000</td>\n",
       "      <td>2.600000</td>\n",
       "      <td>41.000000</td>\n",
       "    </tr>\n",
       "    <tr>\n",
       "      <th>75%</th>\n",
       "      <td>7.75000</td>\n",
       "      <td>2008.00000</td>\n",
       "      <td>3.375000</td>\n",
       "      <td>48.000000</td>\n",
       "    </tr>\n",
       "    <tr>\n",
       "      <th>max</th>\n",
       "      <td>10.00000</td>\n",
       "      <td>2020.00000</td>\n",
       "      <td>4.000000</td>\n",
       "      <td>53.000000</td>\n",
       "    </tr>\n",
       "  </tbody>\n",
       "</table>\n",
       "</div>"
      ],
      "text/plain": [
       "             ID  Joining_Year     Salary        Age\n",
       "count  10.00000      10.00000  10.000000  10.000000\n",
       "mean    5.50000    2004.80000   2.620000  42.600000\n",
       "std     3.02765       6.56252   0.964711   7.647803\n",
       "min     1.00000    1999.00000   0.700000  27.000000\n",
       "25%     3.25000    2000.25000   2.125000  39.250000\n",
       "50%     5.50000    2002.00000   2.600000  41.000000\n",
       "75%     7.75000    2008.00000   3.375000  48.000000\n",
       "max    10.00000    2020.00000   4.000000  53.000000"
      ]
     },
     "execution_count": 23,
     "metadata": {},
     "output_type": "execute_result"
    }
   ],
   "source": [
    "df_excel.describe()"
   ]
  },
  {
   "cell_type": "code",
   "execution_count": null,
   "id": "48ce8f9c",
   "metadata": {},
   "outputs": [],
   "source": []
  }
 ],
 "metadata": {
  "kernelspec": {
   "display_name": "Python 3 (ipykernel)",
   "language": "python",
   "name": "python3"
  },
  "language_info": {
   "codemirror_mode": {
    "name": "ipython",
    "version": 3
   },
   "file_extension": ".py",
   "mimetype": "text/x-python",
   "name": "python",
   "nbconvert_exporter": "python",
   "pygments_lexer": "ipython3",
   "version": "3.9.12"
  }
 },
 "nbformat": 4,
 "nbformat_minor": 5
}
